{
 "cells": [
  {
   "cell_type": "markdown",
   "metadata": {},
   "source": [
    "__Introduction__\n",
    "\n",
    "Customer Churn occurs when a customer stops using a company's products or services. Customer churn affects profitability, especially in industries where revenues are heaveily dependent on subscription s( e.g. banks, telephone and internet service providers, pay-TV compa nies, insurance firsms, etc.). It  is estimated  that acquiring a new customer can cost up to five times more than retaining an existing one. Therefore, customer churn analysis is eesential as it can help a business:\n",
    "\n",
    "•\tIdentify problems in its services( e.g. poor quality product/service, poor customer support, wrong target audience, etc.)\n",
    "\n",
    "•\tMake correct strategic decisions that would  lead to higher  customer satisfaction and  consequently higher customer retention.\n",
    "\n",
    "\n",
    "__Main objective of the analysis__\n",
    "\n",
    "The goal of this work is to understand and predict customer churn for a bank. Here, we are not interested in doing inferences but only the prediction. Therefore, we will go into exploratory analysis but clean the data and use its geometry to classify the churns and non-churns using K-NN algorithm.\n",
    "\n",
    "\n",
    "\n",
    "\n",
    "__Data__\n",
    "\n",
    "We start our analysis with a data frame of lOK observations on the following 14 variables.\n",
    "\n",
    "•\tExited: our target variable indicating whether a client exited or not the bank services (Yes/No)\n",
    "\n",
    "•\tRowNumber: row indexing count\n",
    "\n",
    "•\tCustomerid: the unique identifier for each bank client\n",
    "\n",
    "•\tSurname: client's surname\n",
    "\n",
    "•\tGeography: the country of origin of the  client.  A factor with 3 levels (France, Germany and Spain)\n",
    "\n",
    "•\tGender: a factor with 2 levels (Male/Female)\n",
    "\n",
    "•\tCreditScore: a numerical variable ranging from O to 850\n",
    "\n",
    "•\tAge: a discrete variable ranging from 18 to 92\n",
    "\n",
    "•\tTenure : a factor with 11 levels corresponding to the number of months of retention\n",
    "\n",
    "•\tBalance: numerical variable reporting client's balance amount\n",
    "\n",
    "•\tNumOf Products: a factor with 4 levels ( 1, 2, 3 and 4)\n",
    "\n",
    "•\tHasCrCard: a factor reporting Yes if client owns a credit card and No otherwise\n",
    "\n",
    "•\tIsActiveMember: a factor with two levels\n",
    "\n",
    "•\tEstimatedSalary: a numerical variable giving bank's est imation of t heir clients annual salary (in euro)\n",
    "\n",
    "\n",
    "Notice that we have three columns to remove since they do not provide any information. They are RowNumber, Customerid and Surname and we will have to predict Exited column where churn customers are labelled as 1 and non-churns as 0.\n"
   ]
  },
  {
   "cell_type": "code",
   "execution_count": 1,
   "metadata": {},
   "outputs": [],
   "source": [
    "import os\n",
    "os.chdir('C:\\\\Users\\\\barla\\\\OneDrive\\\\Desktop\\\\Academia\\\\Data Science and Economics\\\\Datasets')\n",
    "import pandas as pd\n",
    "import numpy as np\n",
    "import matplotlib\n",
    "import matplotlib.pyplot as plt\n",
    "\n",
    "%matplotlib inline\n",
    "\n",
    "# Tools for scaling data, PCA, and standard datasets\n",
    "from sklearn import preprocessing, decomposition, datasets\n",
    "\n",
    "# Tools for tracking learning curves and perform cross validation\n",
    "from sklearn.model_selection import train_test_split, GridSearchCV, cross_val_score, validation_curve, learning_curve\n",
    "\n",
    "# The k-NN learning algorithm\n",
    "from sklearn.neighbors import KNeighborsClassifier as kNN\n",
    "\n",
    "from sklearn.metrics import roc_curve, roc_auc_score\n",
    "from sklearn.metrics import auc\n",
    "from sklearn.metrics import confusion_matrix"
   ]
  },
  {
   "cell_type": "code",
   "execution_count": 2,
   "metadata": {},
   "outputs": [
    {
     "name": "stdout",
     "output_type": "stream",
     "text": [
      "<class 'pandas.core.frame.DataFrame'>\n",
      "RangeIndex: 10000 entries, 0 to 9999\n",
      "Data columns (total 14 columns):\n",
      " #   Column           Non-Null Count  Dtype  \n",
      "---  ------           --------------  -----  \n",
      " 0   RowNumber        10000 non-null  int64  \n",
      " 1   CustomerId       10000 non-null  int64  \n",
      " 2   Surname          10000 non-null  object \n",
      " 3   CreditScore      10000 non-null  int64  \n",
      " 4   Geography        10000 non-null  object \n",
      " 5   Gender           10000 non-null  object \n",
      " 6   Age              10000 non-null  int64  \n",
      " 7   Tenure           10000 non-null  int64  \n",
      " 8   Balance          10000 non-null  float64\n",
      " 9   NumOfProducts    10000 non-null  int64  \n",
      " 10  HasCrCard        10000 non-null  int64  \n",
      " 11  IsActiveMember   10000 non-null  int64  \n",
      " 12  EstimatedSalary  10000 non-null  float64\n",
      " 13  Exited           10000 non-null  int64  \n",
      "dtypes: float64(2), int64(9), object(3)\n",
      "memory usage: 1.1+ MB\n"
     ]
    }
   ],
   "source": [
    "data = pd.read_csv('Churn_Modelling.csv')\n",
    "data.info()"
   ]
  },
  {
   "cell_type": "markdown",
   "metadata": {},
   "source": [
    "We do not have any null value. Some of our features are categorical. We will need to assign dummies. "
   ]
  },
  {
   "cell_type": "code",
   "execution_count": 3,
   "metadata": {},
   "outputs": [
    {
     "data": {
      "text/html": [
       "<div>\n",
       "<style scoped>\n",
       "    .dataframe tbody tr th:only-of-type {\n",
       "        vertical-align: middle;\n",
       "    }\n",
       "\n",
       "    .dataframe tbody tr th {\n",
       "        vertical-align: top;\n",
       "    }\n",
       "\n",
       "    .dataframe thead th {\n",
       "        text-align: right;\n",
       "    }\n",
       "</style>\n",
       "<table border=\"1\" class=\"dataframe\">\n",
       "  <thead>\n",
       "    <tr style=\"text-align: right;\">\n",
       "      <th></th>\n",
       "      <th>CreditScore</th>\n",
       "      <th>Geography</th>\n",
       "      <th>Gender</th>\n",
       "      <th>Age</th>\n",
       "      <th>Tenure</th>\n",
       "      <th>Balance</th>\n",
       "      <th>NumOfProducts</th>\n",
       "      <th>HasCrCard</th>\n",
       "      <th>IsActiveMember</th>\n",
       "      <th>EstimatedSalary</th>\n",
       "      <th>Exited</th>\n",
       "    </tr>\n",
       "  </thead>\n",
       "  <tbody>\n",
       "    <tr>\n",
       "      <th>0</th>\n",
       "      <td>619</td>\n",
       "      <td>France</td>\n",
       "      <td>Female</td>\n",
       "      <td>42</td>\n",
       "      <td>2</td>\n",
       "      <td>0.00</td>\n",
       "      <td>1</td>\n",
       "      <td>1</td>\n",
       "      <td>1</td>\n",
       "      <td>101348.88</td>\n",
       "      <td>1</td>\n",
       "    </tr>\n",
       "    <tr>\n",
       "      <th>1</th>\n",
       "      <td>608</td>\n",
       "      <td>Spain</td>\n",
       "      <td>Female</td>\n",
       "      <td>41</td>\n",
       "      <td>1</td>\n",
       "      <td>83807.86</td>\n",
       "      <td>1</td>\n",
       "      <td>0</td>\n",
       "      <td>1</td>\n",
       "      <td>112542.58</td>\n",
       "      <td>0</td>\n",
       "    </tr>\n",
       "    <tr>\n",
       "      <th>2</th>\n",
       "      <td>502</td>\n",
       "      <td>France</td>\n",
       "      <td>Female</td>\n",
       "      <td>42</td>\n",
       "      <td>8</td>\n",
       "      <td>159660.80</td>\n",
       "      <td>3</td>\n",
       "      <td>1</td>\n",
       "      <td>0</td>\n",
       "      <td>113931.57</td>\n",
       "      <td>1</td>\n",
       "    </tr>\n",
       "    <tr>\n",
       "      <th>3</th>\n",
       "      <td>699</td>\n",
       "      <td>France</td>\n",
       "      <td>Female</td>\n",
       "      <td>39</td>\n",
       "      <td>1</td>\n",
       "      <td>0.00</td>\n",
       "      <td>2</td>\n",
       "      <td>0</td>\n",
       "      <td>0</td>\n",
       "      <td>93826.63</td>\n",
       "      <td>0</td>\n",
       "    </tr>\n",
       "    <tr>\n",
       "      <th>4</th>\n",
       "      <td>850</td>\n",
       "      <td>Spain</td>\n",
       "      <td>Female</td>\n",
       "      <td>43</td>\n",
       "      <td>2</td>\n",
       "      <td>125510.82</td>\n",
       "      <td>1</td>\n",
       "      <td>1</td>\n",
       "      <td>1</td>\n",
       "      <td>79084.10</td>\n",
       "      <td>0</td>\n",
       "    </tr>\n",
       "  </tbody>\n",
       "</table>\n",
       "</div>"
      ],
      "text/plain": [
       "   CreditScore Geography  Gender  Age  Tenure    Balance  NumOfProducts  \\\n",
       "0          619    France  Female   42       2       0.00              1   \n",
       "1          608     Spain  Female   41       1   83807.86              1   \n",
       "2          502    France  Female   42       8  159660.80              3   \n",
       "3          699    France  Female   39       1       0.00              2   \n",
       "4          850     Spain  Female   43       2  125510.82              1   \n",
       "\n",
       "   HasCrCard  IsActiveMember  EstimatedSalary  Exited  \n",
       "0          1               1        101348.88       1  \n",
       "1          0               1        112542.58       0  \n",
       "2          1               0        113931.57       1  \n",
       "3          0               0         93826.63       0  \n",
       "4          1               1         79084.10       0  "
      ]
     },
     "execution_count": 3,
     "metadata": {},
     "output_type": "execute_result"
    }
   ],
   "source": [
    "data = data.drop(columns=['RowNumber','CustomerId','Surname'])\n",
    "data.head()"
   ]
  },
  {
   "cell_type": "code",
   "execution_count": 4,
   "metadata": {},
   "outputs": [
    {
     "data": {
      "text/html": [
       "<div>\n",
       "<style scoped>\n",
       "    .dataframe tbody tr th:only-of-type {\n",
       "        vertical-align: middle;\n",
       "    }\n",
       "\n",
       "    .dataframe tbody tr th {\n",
       "        vertical-align: top;\n",
       "    }\n",
       "\n",
       "    .dataframe thead th {\n",
       "        text-align: right;\n",
       "    }\n",
       "</style>\n",
       "<table border=\"1\" class=\"dataframe\">\n",
       "  <thead>\n",
       "    <tr style=\"text-align: right;\">\n",
       "      <th></th>\n",
       "      <th>CreditScore</th>\n",
       "      <th>Gender</th>\n",
       "      <th>Age</th>\n",
       "      <th>Tenure</th>\n",
       "      <th>Balance</th>\n",
       "      <th>NumOfProducts</th>\n",
       "      <th>HasCrCard</th>\n",
       "      <th>IsActiveMember</th>\n",
       "      <th>EstimatedSalary</th>\n",
       "      <th>Exited</th>\n",
       "      <th>Geo_dummy_France</th>\n",
       "      <th>Geo_dummy_Germany</th>\n",
       "      <th>Geo_dummy_Spain</th>\n",
       "    </tr>\n",
       "  </thead>\n",
       "  <tbody>\n",
       "    <tr>\n",
       "      <th>0</th>\n",
       "      <td>619</td>\n",
       "      <td>0</td>\n",
       "      <td>42</td>\n",
       "      <td>2</td>\n",
       "      <td>0.00</td>\n",
       "      <td>1</td>\n",
       "      <td>1</td>\n",
       "      <td>1</td>\n",
       "      <td>101348.88</td>\n",
       "      <td>1</td>\n",
       "      <td>1</td>\n",
       "      <td>0</td>\n",
       "      <td>0</td>\n",
       "    </tr>\n",
       "    <tr>\n",
       "      <th>1</th>\n",
       "      <td>608</td>\n",
       "      <td>0</td>\n",
       "      <td>41</td>\n",
       "      <td>1</td>\n",
       "      <td>83807.86</td>\n",
       "      <td>1</td>\n",
       "      <td>0</td>\n",
       "      <td>1</td>\n",
       "      <td>112542.58</td>\n",
       "      <td>0</td>\n",
       "      <td>0</td>\n",
       "      <td>0</td>\n",
       "      <td>1</td>\n",
       "    </tr>\n",
       "    <tr>\n",
       "      <th>2</th>\n",
       "      <td>502</td>\n",
       "      <td>0</td>\n",
       "      <td>42</td>\n",
       "      <td>8</td>\n",
       "      <td>159660.80</td>\n",
       "      <td>3</td>\n",
       "      <td>1</td>\n",
       "      <td>0</td>\n",
       "      <td>113931.57</td>\n",
       "      <td>1</td>\n",
       "      <td>1</td>\n",
       "      <td>0</td>\n",
       "      <td>0</td>\n",
       "    </tr>\n",
       "    <tr>\n",
       "      <th>3</th>\n",
       "      <td>699</td>\n",
       "      <td>0</td>\n",
       "      <td>39</td>\n",
       "      <td>1</td>\n",
       "      <td>0.00</td>\n",
       "      <td>2</td>\n",
       "      <td>0</td>\n",
       "      <td>0</td>\n",
       "      <td>93826.63</td>\n",
       "      <td>0</td>\n",
       "      <td>1</td>\n",
       "      <td>0</td>\n",
       "      <td>0</td>\n",
       "    </tr>\n",
       "    <tr>\n",
       "      <th>4</th>\n",
       "      <td>850</td>\n",
       "      <td>0</td>\n",
       "      <td>43</td>\n",
       "      <td>2</td>\n",
       "      <td>125510.82</td>\n",
       "      <td>1</td>\n",
       "      <td>1</td>\n",
       "      <td>1</td>\n",
       "      <td>79084.10</td>\n",
       "      <td>0</td>\n",
       "      <td>0</td>\n",
       "      <td>0</td>\n",
       "      <td>1</td>\n",
       "    </tr>\n",
       "  </tbody>\n",
       "</table>\n",
       "</div>"
      ],
      "text/plain": [
       "   CreditScore  Gender  Age  Tenure    Balance  NumOfProducts  HasCrCard  \\\n",
       "0          619       0   42       2       0.00              1          1   \n",
       "1          608       0   41       1   83807.86              1          0   \n",
       "2          502       0   42       8  159660.80              3          1   \n",
       "3          699       0   39       1       0.00              2          0   \n",
       "4          850       0   43       2  125510.82              1          1   \n",
       "\n",
       "   IsActiveMember  EstimatedSalary  Exited  Geo_dummy_France  \\\n",
       "0               1        101348.88       1                 1   \n",
       "1               1        112542.58       0                 0   \n",
       "2               0        113931.57       1                 1   \n",
       "3               0         93826.63       0                 1   \n",
       "4               1         79084.10       0                 0   \n",
       "\n",
       "   Geo_dummy_Germany  Geo_dummy_Spain  \n",
       "0                  0                0  \n",
       "1                  0                1  \n",
       "2                  0                0  \n",
       "3                  0                0  \n",
       "4                  0                1  "
      ]
     },
     "execution_count": 4,
     "metadata": {},
     "output_type": "execute_result"
    }
   ],
   "source": [
    "#Create dummies\n",
    "\n",
    "gender_dummies = data.replace(to_replace={'Gender': {'Female': 0,'Male':1}})\n",
    "a = pd.get_dummies(data['Geography'], prefix = \"Geo_dummy\")\n",
    "frames = [gender_dummies,a]\n",
    "data = pd.concat(frames, axis=1)\n",
    "data = data.drop(columns=['Geography'])\n",
    "data.head()"
   ]
  },
  {
   "cell_type": "code",
   "execution_count": 5,
   "metadata": {},
   "outputs": [],
   "source": [
    "#Drop the label column\n",
    "\n",
    "x=data.drop(['Exited'],axis=1)\n",
    "y=data['Exited']"
   ]
  },
  {
   "cell_type": "code",
   "execution_count": 6,
   "metadata": {},
   "outputs": [
    {
     "data": {
      "text/plain": [
       "(array([0, 1], dtype=int64), array([7963, 2037], dtype=int64))"
      ]
     },
     "execution_count": 6,
     "metadata": {},
     "output_type": "execute_result"
    }
   ],
   "source": [
    "np.unique(y, return_counts=True)"
   ]
  },
  {
   "cell_type": "markdown",
   "metadata": {},
   "source": [
    "We have around 8000 customers who did not churn and around 2000 customers who churned. This is an inbalanced dataset which is a problem for our analysis. We know that in K-NN the classifications are based on majority voting, however here using majority rule is not a good idea since the algorithm will fail to correctly classify those who did churn due to the inbalanceness that exist in our dataset. That is why we will instead use the probabilities assigned to each data point for its classification."
   ]
  },
  {
   "cell_type": "code",
   "execution_count": 7,
   "metadata": {},
   "outputs": [],
   "source": [
    "X_train, X_test, y_train, y_test = train_test_split(x,y, test_size= 0.3, random_state = 42, stratify = y)\n"
   ]
  },
  {
   "cell_type": "markdown",
   "metadata": {},
   "source": [
    "We have a relatively big data, so it makes sense to divide it as %70 training and %30 test set.\n",
    "\n",
    "We are now ready to train a classifier for this dataset. We create a 1-NN classifier object by invoking the function kNN(n_neighbors=1), where kNN() is the alias we created when we imported the module for KNeighborsClassifier(). The object is assigned to the variable knn.\n",
    "\n",
    "What nearest neigbor is really doing is the following: we have 10 measurements for each observation, so a matrix with 10 dimensions. We cannot see it neither view it but we know that it exists in the space. It is a mathematical construction. So we have this clouds of points in this 10 dimensional space and each point has a color. Color red for exited and green for non-exited, let's say. We split these points into subsets, training and test. Assume that we take out the test points and we are left %70 of original points in a random cloud. We give those points to the algorithm. What the algorithm does is to produce a classifier based on this %70 of original points. We then put back in those taken out points without the label and let the algorithm finds their place in this 10 dimensional space. What is the color of this point? Red or Green?\n",
    "\n",
    "What K means does is to memorize all the training set. It takes %70 of the points and stores them in the memory. Everytime we give to it a new point, it looks at the K closest point that it had in the training set. It measures the distance in this 30 dimensional space with Euclidean formula which works well for any finite dimensions."
   ]
  },
  {
   "cell_type": "code",
   "execution_count": 8,
   "metadata": {},
   "outputs": [
    {
     "data": {
      "text/plain": [
       "(1.0, 0.682)"
      ]
     },
     "execution_count": 8,
     "metadata": {},
     "output_type": "execute_result"
    }
   ],
   "source": [
    "knn = kNN(n_neighbors=1)\n",
    "knn.fit(X_train, y_train)\n",
    "knn.score(X_train, y_train), knn.score(X_test, y_test)\n"
   ]
  },
  {
   "cell_type": "markdown",
   "metadata": {},
   "source": [
    "Training accuracy turns out be 1 while testing is .68. We already knew that it would be %100 accurate on the train dataset since the algoritm memorizes all the train dataset. On the test data, on the other hand, the accurary is about %68 percent where every point is compared with the closes training point which is then given the label of the closest training point.\n",
    "\n",
    "let's use the same training and test set however this time with 3 nearest neighbor. Now, the classification will be done based on the majority vote of the first three closest training points neigbors."
   ]
  },
  {
   "cell_type": "code",
   "execution_count": 9,
   "metadata": {},
   "outputs": [
    {
     "data": {
      "text/plain": [
       "(0.8382857142857143, 0.7363333333333333)"
      ]
     },
     "execution_count": 9,
     "metadata": {},
     "output_type": "execute_result"
    }
   ],
   "source": [
    "knn= kNN(n_neighbors=3)\n",
    "knn.fit(X_train, y_train)\n",
    "knn.score(X_train, y_train), knn.score(X_test, y_test)"
   ]
  },
  {
   "cell_type": "markdown",
   "metadata": {},
   "source": [
    "How come the training accuracy is not 1? ıt still memorizes the training set but it is applying the nearest neighbor rule. So suppose that we have a training point and we(algorithm) know the label of this training point because we memorized it. However, we are a three nearest neighbor classifer. We should use the three training points closest to this training point to make a classification. That's the definition of training error. The closest point to the training point will be itself but then we have two others points and they might have labels equal or disagreeing with our training point. So if we have a training point in a sea of training points of different color, it will be classified wrongly. Even if the algorithm knows its label, it still applies the three nearest neighbor rule.\n",
    "\n",
    "However, we are doing better on the new data, namely, the test data! That's actually what we are interested in! We want to see how it does with the data it has never seen before.\n",
    "\n",
    "Predictably, the training accuracy went down (by about 17%), while the test accuracy is now pretty close to the training accuracy.\n",
    "\n",
    "Next, we use the function learning_curve() to inspect the evolution of training and test performance of 7-NN for increasing sizes of the training set.\n",
    "\n",
    "For each value of the training set size, a 5-fold stratified cross-validation is performed to estimate the risk."
   ]
  },
  {
   "cell_type": "code",
   "execution_count": 10,
   "metadata": {},
   "outputs": [],
   "source": [
    "sizes= np.arange(0.1, 0.9, 0.1)\n",
    "train_size, train_score, val_score = learning_curve(kNN(n_neighbors = 7), x, y, train_sizes= sizes, cv=5)"
   ]
  },
  {
   "cell_type": "code",
   "execution_count": 11,
   "metadata": {},
   "outputs": [
    {
     "data": {
      "image/png": "[encoded data removed]",
      "text/plain": [
       "<Figure size 432x288 with 1 Axes>"
      ]
     },
     "metadata": {
      "needs_background": "light"
     },
     "output_type": "display_data"
    }
   ],
   "source": [
    "plt.title(\"K-NN vs training size\")\n",
    "plt.plot(train_size,np.mean(val_score,1), label='Validation Accuracy')\n",
    "plt.plot(train_size,np.mean(train_score,1), label=\"Training Accuracy\")\n",
    "plt.legend()\n",
    "plt.xlabel(\"Training size\")\n",
    "plt.ylabel(\"Accuracy\")\n",
    "plt.show()"
   ]
  },
  {
   "cell_type": "markdown",
   "metadata": {},
   "source": [
    "For this particular dataset, we conclude that the training size does not change the result a lot. This is probably the inbalancesness that exist in our dataset. The relative sizes of churns and non-churns do not really change a lot with respect to the training size provided to the algorithm.\n",
    "We can still do more in developing our model. We could measure the behaviour of the training and test set as a function of the number of the nearest neighbor, K. So, we basically want to know what value of parameter to use, what value of K maximizes\n",
    "our accuracy on the test data?"
   ]
  },
  {
   "cell_type": "code",
   "execution_count": 12,
   "metadata": {},
   "outputs": [
    {
     "name": "stderr",
     "output_type": "stream",
     "text": [
      "C:\\Users\\barla\\anaconda3\\lib\\site-packages\\sklearn\\utils\\validation.py:67: FutureWarning: Pass param_name=n_neighbors, param_range=range(1, 30) as keyword args. From version 0.25 passing these as positional arguments will result in an error\n",
      "  warnings.warn(\"Pass {} as keyword args. From version 0.25 \"\n"
     ]
    },
    {
     "data": {
      "text/plain": [
       "(array([[1.      , 1.      , 1.      , 1.      , 1.      ],\n",
       "        [0.8375  , 0.84425 , 0.839   , 0.839875, 0.840125],\n",
       "        [0.841875, 0.84375 , 0.843   , 0.839625, 0.838875],\n",
       "        [0.817   , 0.812875, 0.815875, 0.814875, 0.81575 ],\n",
       "        [0.816   , 0.814   , 0.8155  , 0.818375, 0.816125],\n",
       "        [0.80625 , 0.80625 , 0.807125, 0.807125, 0.806625],\n",
       "        [0.805875, 0.807875, 0.807125, 0.807125, 0.8045  ],\n",
       "        [0.8005  , 0.80175 , 0.8025  , 0.802125, 0.8025  ],\n",
       "        [0.801875, 0.801375, 0.800625, 0.80225 , 0.802375],\n",
       "        [0.79875 , 0.8     , 0.798625, 0.801   , 0.80125 ],\n",
       "        [0.798125, 0.800125, 0.79725 , 0.800375, 0.800875],\n",
       "        [0.797375, 0.799375, 0.795625, 0.799375, 0.798875],\n",
       "        [0.79725 , 0.7985  , 0.79675 , 0.79975 , 0.8     ],\n",
       "        [0.796875, 0.79825 , 0.795875, 0.79775 , 0.797625],\n",
       "        [0.79775 , 0.798875, 0.79575 , 0.797875, 0.79875 ],\n",
       "        [0.796875, 0.797   , 0.795   , 0.797375, 0.79775 ],\n",
       "        [0.796875, 0.798875, 0.7965  , 0.79725 , 0.798   ],\n",
       "        [0.7965  , 0.7965  , 0.796   , 0.797875, 0.798   ],\n",
       "        [0.79675 , 0.798   , 0.796625, 0.798625, 0.796875],\n",
       "        [0.796625, 0.797875, 0.79625 , 0.797625, 0.797   ],\n",
       "        [0.79775 , 0.7985  , 0.796   , 0.7975  , 0.797375],\n",
       "        [0.796875, 0.797875, 0.796375, 0.796875, 0.7975  ],\n",
       "        [0.796375, 0.799   , 0.79675 , 0.79725 , 0.797875],\n",
       "        [0.796375, 0.7975  , 0.796625, 0.797   , 0.797   ],\n",
       "        [0.7965  , 0.79775 , 0.7965  , 0.796875, 0.796875],\n",
       "        [0.796375, 0.796875, 0.796   , 0.796375, 0.796875],\n",
       "        [0.796875, 0.797375, 0.796125, 0.7965  , 0.79725 ],\n",
       "        [0.7965  , 0.796625, 0.796375, 0.796375, 0.796375],\n",
       "        [0.7965  , 0.79675 , 0.796375, 0.7965  , 0.7965  ]]),\n",
       " array([[0.7   , 0.677 , 0.6745, 0.692 , 0.68  ],\n",
       "        [0.772 , 0.769 , 0.769 , 0.7775, 0.7745],\n",
       "        [0.7315, 0.74  , 0.7295, 0.74  , 0.7365],\n",
       "        [0.7855, 0.7815, 0.7815, 0.7815, 0.781 ],\n",
       "        [0.767 , 0.7655, 0.767 , 0.7645, 0.766 ],\n",
       "        [0.7895, 0.787 , 0.79  , 0.788 , 0.792 ],\n",
       "        [0.7785, 0.781 , 0.781 , 0.7785, 0.7815],\n",
       "        [0.786 , 0.7945, 0.793 , 0.786 , 0.7915],\n",
       "        [0.782 , 0.7885, 0.7855, 0.7795, 0.783 ],\n",
       "        [0.7905, 0.7935, 0.7955, 0.7905, 0.79  ],\n",
       "        [0.787 , 0.7865, 0.79  , 0.7855, 0.7855],\n",
       "        [0.791 , 0.7925, 0.795 , 0.791 , 0.7915],\n",
       "        [0.79  , 0.7875, 0.793 , 0.792 , 0.7875],\n",
       "        [0.794 , 0.7945, 0.796 , 0.7955, 0.7915],\n",
       "        [0.7925, 0.7935, 0.7945, 0.7945, 0.789 ],\n",
       "        [0.7945, 0.7935, 0.7965, 0.7965, 0.794 ],\n",
       "        [0.795 , 0.7935, 0.796 , 0.796 , 0.793 ],\n",
       "        [0.7955, 0.7955, 0.796 , 0.7965, 0.7945],\n",
       "        [0.7965, 0.7965, 0.7935, 0.796 , 0.794 ],\n",
       "        [0.795 , 0.797 , 0.796 , 0.7965, 0.7945],\n",
       "        [0.795 , 0.794 , 0.7955, 0.796 , 0.793 ],\n",
       "        [0.7945, 0.7965, 0.796 , 0.797 , 0.796 ],\n",
       "        [0.7945, 0.7955, 0.7965, 0.7965, 0.7935],\n",
       "        [0.7965, 0.797 , 0.796 , 0.7975, 0.795 ],\n",
       "        [0.7965, 0.7965, 0.7955, 0.7975, 0.793 ],\n",
       "        [0.796 , 0.796 , 0.796 , 0.7975, 0.7955],\n",
       "        [0.796 , 0.797 , 0.796 , 0.7975, 0.7955],\n",
       "        [0.7955, 0.7965, 0.7965, 0.797 , 0.7965],\n",
       "        [0.795 , 0.7965, 0.7965, 0.7965, 0.796 ]]))"
      ]
     },
     "execution_count": 12,
     "metadata": {},
     "output_type": "execute_result"
    }
   ],
   "source": [
    "neighbors = range(1,30,1)\n",
    "\n",
    "train_score, val_score = validation_curve(kNN(), x, y, 'n_neighbors', neighbors, cv=5)\n",
    "train_score, val_score"
   ]
  },
  {
   "cell_type": "code",
   "execution_count": 13,
   "metadata": {},
   "outputs": [
    {
     "data": {
      "image/png": "[encoded data removed]",
      "text/plain": [
       "<Figure size 432x288 with 1 Axes>"
      ]
     },
     "metadata": {
      "needs_background": "light"
     },
     "output_type": "display_data"
    }
   ],
   "source": [
    "plt.title('K-NN vs number of neighbors')\n",
    "plt.plot(neighbors, np.mean(val_score,1), label='Testing Accuracy')\n",
    "plt.plot(neighbors, np.mean(train_score,1), label=\"Training Accuracy\")\n",
    "plt.legend()\n",
    "plt.xlabel('Number of neighbors')\n",
    "plt.ylabel('Accuracy')\n",
    "plt.show()"
   ]
  },
  {
   "cell_type": "markdown",
   "metadata": {},
   "source": [
    "The left side of the plot, where the testing accuracy and the training accuracy is very apart from each other is the region where there is overfitting. The training accuracy is really high because it is fitted so well on it but it is low in the testing accuracy.\n",
    "Afte a certain number of neighbors which is around 18, our accuracy becomes constant. Probably because, the particular distribution of the data points on the 10 dimensional space leads to this result. After around K=18, the number of neighbors provided do not change the accuracy.\n"
   ]
  },
  {
   "cell_type": "code",
   "execution_count": 14,
   "metadata": {},
   "outputs": [
    {
     "data": {
      "text/plain": [
       "({'n_neighbors': 41}, 0.7963)"
      ]
     },
     "execution_count": 14,
     "metadata": {},
     "output_type": "execute_result"
    }
   ],
   "source": [
    "k_grid = {\"n_neighbors\":range(1,100,20)}\n",
    "learner = GridSearchCV(estimator=kNN(), param_grid = k_grid, cv=5, return_train_score=True)\n",
    "learner.fit(x,y)\n",
    "learner.best_params_, learner.best_score_"
   ]
  },
  {
   "cell_type": "markdown",
   "metadata": {},
   "source": [
    "So now, let's assume that we do not care about the testing. What we care about is only finding the right parameter. So, we take all the data we have and just want to determine the best value of the parameter for this data. So what do we do? We first of all decide which values to explore and then create a grid as above which is a dictionary. we then train the algorithm for each one of the values in the grid and we repeat the operation for each of those values. So we pick a value, we run 5 cross-validations on it: meaning that we train the algorihtm 5 times with the same value of K each time taking out %20 of the data and train on the remaning %80 and then compute the mean. And then we take another value of K in the grid and repeat this operation for each value in the grid and we are looking for the best cross-validated performance: the best value of K that is associated with the highest average.\n",
    "\n",
    "With K=41, we get the highest testing accuracy. However, this is a very high value for K and it is actually against the idea of similarity that is behind the algorithm. Also, we know that the accuracy becomes stable around 18 so we do not need to make it more complex with 41 parameters."
   ]
  },
  {
   "cell_type": "code",
   "execution_count": 15,
   "metadata": {},
   "outputs": [
    {
     "data": {
      "text/plain": [
       "0.7963"
      ]
     },
     "execution_count": 15,
     "metadata": {},
     "output_type": "execute_result"
    }
   ],
   "source": [
    "model = learner.best_estimator_\n",
    "scores = cross_val_score(model,x,y,cv=5)\n",
    "scores.mean()"
   ]
  },
  {
   "cell_type": "markdown",
   "metadata": {},
   "source": [
    "\n",
    "We saw that cross-validation allows us to use the data for choosing a good value of the parameter. However, we are still left with the problem of estimating the risk of the classifier generated by the algorithm. Nested cross-validation provides a way of estimating the risk of a classifier generated by an algorithm whose parameters are tuned using cross-validation on the training set.\n",
    "\n",
    "In the following example, we:\n",
    "\n",
    "Run 5-fold cross-validation on the entire dataset.\n",
    "\n",
    "On the training part of each fold, run internal 5-fold cross-validation to find the best value of the parameter.\n",
    "\n",
    "Re-train the model on the training part of the outer fold using the optimized parameter.\n",
    "\n",
    "Test the model on the testing part of the outer fold."
   ]
  },
  {
   "cell_type": "code",
   "execution_count": 16,
   "metadata": {},
   "outputs": [
    {
     "data": {
      "text/plain": [
       "(array([0.796 , 0.796 , 0.7965, 0.7965, 0.7965]), 0.7963)"
      ]
     },
     "execution_count": 16,
     "metadata": {},
     "output_type": "execute_result"
    }
   ],
   "source": [
    "k_grid = {'n_neighbors': range(1,100,20)}\n",
    "learner = GridSearchCV(estimator=kNN(), param_grid=k_grid, cv=5) # internal C-V\n",
    "scores = cross_val_score(learner, x, y, cv=5) # external C-V\n",
    "scores, scores.mean()"
   ]
  },
  {
   "cell_type": "markdown",
   "metadata": {},
   "source": [
    "Note that the nested cross-validated estimate turned out be the same as CV.\n"
   ]
  },
  {
   "cell_type": "markdown",
   "metadata": {},
   "source": [
    "We can now do better by scaling down our dataset.\n"
   ]
  },
  {
   "cell_type": "code",
   "execution_count": 17,
   "metadata": {},
   "outputs": [],
   "source": [
    "X_train, X_test, y_train, y_test = train_test_split(x,y, test_size= 0.3, random_state = 42, stratify = y)\n",
    "standard_scaler = preprocessing.StandardScaler()\n",
    "X_train_standard = standard_scaler.fit_transform(X_train)#computes the mean and Sd for each feature\n",
    "X_test_standard = standard_scaler.transform(X_test) #transforms the data according to the stats computed above line."
   ]
  },
  {
   "cell_type": "code",
   "execution_count": 18,
   "metadata": {},
   "outputs": [],
   "source": [
    "neighbors = range(1,30,3)\n",
    "test_scores = []\n",
    "test_scores_standard =[]\n",
    "\n",
    "for k in neighbors:\n",
    "    knn = kNN(n_neighbors=k)\n",
    "    knn.fit(X_train, y_train)\n",
    "    test_scores.append(knn.score(X_test,y_test))\n",
    "    knn.fit(X_train_standard,y_train)\n",
    "    test_scores_standard.append(knn.score(X_test_standard,y_test))"
   ]
  },
  {
   "cell_type": "code",
   "execution_count": 19,
   "metadata": {},
   "outputs": [
    {
     "data": {
      "image/png": "[encoded data removed]",
      "text/plain": [
       "<Figure size 432x288 with 1 Axes>"
      ]
     },
     "metadata": {
      "needs_background": "light"
     },
     "output_type": "display_data"
    }
   ],
   "source": [
    "plt.title('k-NN vs. number of neighbors')\n",
    "plt.plot(neighbors, test_scores, label='Testing accuracy')\n",
    "plt.plot(neighbors, test_scores_standard,label='Testing accuracy(scaled)')\n",
    "plt.legend()\n",
    "plt.xlabel('Number of neighbors')\n",
    "plt.ylabel('Accuracy')\n",
    "plt.show()"
   ]
  },
  {
   "cell_type": "markdown",
   "metadata": {},
   "source": [
    "As we can see, the testing accuracy of the scaled dataset is always higher than the unscaled one. Scaling the features helped us a lot in terms of prediction. On the scaled dataset, we have the highest accuracy at around 19 neighbors."
   ]
  },
  {
   "cell_type": "code",
   "execution_count": 20,
   "metadata": {},
   "outputs": [
    {
     "data": {
      "text/plain": [
       "0.8366666666666667"
      ]
     },
     "execution_count": 20,
     "metadata": {},
     "output_type": "execute_result"
    }
   ],
   "source": [
    "knn_final= kNN(n_neighbors=19)\n",
    "knn_final.fit(X_train_standard,y_train)\n",
    "knn_final.score(X_test_standard,y_test)\n"
   ]
  },
  {
   "cell_type": "markdown",
   "metadata": {},
   "source": [
    "Our testing accuracy is %83 which is not bad. However, we expect this model to classify badly the ones who did not churn."
   ]
  },
  {
   "cell_type": "code",
   "execution_count": 21,
   "metadata": {},
   "outputs": [],
   "source": [
    "predict = knn_final.predict(X_test_standard)\n"
   ]
  },
  {
   "cell_type": "code",
   "execution_count": 22,
   "metadata": {},
   "outputs": [
    {
     "data": {
      "text/plain": [
       "(97.57220594390958, 29.296235679214405)"
      ]
     },
     "execution_count": 22,
     "metadata": {},
     "output_type": "execute_result"
    }
   ],
   "source": [
    "a,b,c,d=confusion_matrix(predict,y_test)[0,0],confusion_matrix(predict,y_test)[0,1],confusion_matrix(predict,y_test)[1,0],confusion_matrix(predict,y_test)[1,1]\n",
    "sensitivity = (a/(a+c))*100\n",
    "specificity =(d/(d+b))*100\n",
    "\n",
    "sensitivity, specificity"
   ]
  },
  {
   "cell_type": "markdown",
   "metadata": {},
   "source": [
    "As we can see, we are doing pretty good in predictings those who did not churn but doing really bad in predicting those who churned. This is a general problem in inbalanced datasets. We are able to classify correctly only %30 of the churned customers."
   ]
  },
  {
   "cell_type": "code",
   "execution_count": 23,
   "metadata": {},
   "outputs": [],
   "source": [
    "knn_probs = knn_final.predict_proba(X_test_standard) # predict the probabilities\n"
   ]
  },
  {
   "cell_type": "markdown",
   "metadata": {},
   "source": [
    "We will now do the classfication based on the probabilities we get above and as thresholds, we use the grid list defined below that are values ranging from 0.1 to 0.9. This operation will return a 9D array with 3000 rows each D representing a threshold with classifications."
   ]
  },
  {
   "cell_type": "code",
   "execution_count": 24,
   "metadata": {},
   "outputs": [],
   "source": [
    "grid= [0.1,0.2,0.3,0.4,0.5,0.6,0.7,0.8,0.9]\n",
    "res = np.zeros((knn_probs.shape[0],len(grid)))\n",
    "row=0\n",
    "while row < len(knn_probs)-1:\n",
    "    for threshold in grid:\n",
    "        row=0\n",
    "        for probs in knn_probs[:,1]:\n",
    "            if(probs>threshold).all():\n",
    "                res[row,grid.index(threshold)]=1\n",
    "                row+=1\n",
    "            else:\n",
    "                res[row,grid.index(threshold)]=0\n",
    "                row+=1 "
   ]
  },
  {
   "cell_type": "code",
   "execution_count": 25,
   "metadata": {},
   "outputs": [],
   "source": [
    "specificity=[0 for i in range(0,res.shape[1])]\n",
    "sensitivity=[0 for i in range(0,res.shape[1])]\n",
    "\n",
    "for i in range(0,res.shape[1]):\n",
    "    a,b,c,d=confusion_matrix(res[:,i],y_test)[0,0],confusion_matrix(res[:,i],y_test)[0,1],confusion_matrix(res[:,i],y_test)[1,0],confusion_matrix(res[:,i],y_test)[1,1]\n",
    "    sensitivity[i] = (a/(a+c))*100\n",
    "    specificity[i] = (d/(d+b))*100"
   ]
  },
  {
   "cell_type": "code",
   "execution_count": 26,
   "metadata": {},
   "outputs": [
    {
     "data": {
      "image/png": "[encoded data removed]",
      "text/plain": [
       "<Figure size 432x288 with 1 Axes>"
      ]
     },
     "metadata": {
      "needs_background": "light"
     },
     "output_type": "display_data"
    }
   ],
   "source": [
    "\n",
    "plt.title('Sensitivity-Specificity vs. threshold')\n",
    "plt.plot(grid,sensitivity,label='Sensitivity')\n",
    "plt.plot(grid,specificity,label='Specificity')\n",
    "plt.legend()\n",
    "plt.xlabel('Threshold')\n",
    "plt.ylabel('Sensitivity-Specificity')\n",
    "plt.show()"
   ]
  },
  {
   "cell_type": "markdown",
   "metadata": {},
   "source": [
    "As we can see, when the probabilities threshold used to classify the points increases, so when we approach the majority voting system which is the default in Knn, we have a really high sensitivity but low specificity. We cannot correctly classify the ones who did not churn. Around threshold 0.2, we get a nice trade off where we correctly classify around 73% of both classes which is the maximum we can get for this dataset with K-NN."
   ]
  },
  {
   "cell_type": "code",
   "execution_count": 27,
   "metadata": {},
   "outputs": [],
   "source": [
    "res= []\n",
    "for i in knn_probs[:,1]:\n",
    "    if  (i>0.2).all():\n",
    "        res.append(1)\n",
    "    else:\n",
    "        res.append(0)"
   ]
  },
  {
   "cell_type": "code",
   "execution_count": 28,
   "metadata": {},
   "outputs": [
    {
     "data": {
      "text/plain": [
       "(73.41984093763081, 75.77741407528642)"
      ]
     },
     "execution_count": 28,
     "metadata": {},
     "output_type": "execute_result"
    }
   ],
   "source": [
    "a,b,c,d=confusion_matrix(res,y_test)[0,0],confusion_matrix(res,y_test)[0,1],confusion_matrix(res,y_test)[1,0],confusion_matrix(res,y_test)[1,1]\n",
    "sensitivity = (a/(a+c))*100\n",
    "specificity =(d/(d+b))*100\n",
    "\n",
    "sensitivity, specificity"
   ]
  },
  {
   "cell_type": "markdown",
   "metadata": {},
   "source": [
    "With the threshold 0.2, we are able to classify %73 of churns and %75 of non-churns correctly."
   ]
  },
  {
   "cell_type": "code",
   "execution_count": null,
   "metadata": {},
   "outputs": [],
   "source": []
  }
 ],
 "metadata": {
  "kernelspec": {
   "display_name": "Python 3",
   "language": "python",
   "name": "python3"
  },
  "language_info": {
   "codemirror_mode": {
    "name": "ipython",
    "version": 3
   },
   "file_extension": ".py",
   "mimetype": "text/x-python",
   "name": "python",
   "nbconvert_exporter": "python",
   "pygments_lexer": "ipython3",
   "version": "3.8.5"
  }
 },
 "nbformat": 4,
 "nbformat_minor": 4
}
