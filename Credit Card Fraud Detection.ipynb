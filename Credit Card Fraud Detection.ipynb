{
 "cells": [
  {
   "cell_type": "code",
   "execution_count": 1,
   "metadata": {},
   "outputs": [
    {
     "name": "stdout",
     "output_type": "stream",
     "text": [
      "Python: 3.8.5 (default, Sep  3 2020, 21:29:08) [MSC v.1916 64 bit (AMD64)]\n",
      "Numpy:1.19.2\n",
      "Pandas:1.1.3\n",
      "Matplotlib:3.3.2\n",
      "Seaborn:0.11.0\n",
      "Scipy:1.5.2\n",
      "Sklearn:0.23.2\n"
     ]
    }
   ],
   "source": [
    "import sys\n",
    "import numpy\n",
    "import pandas\n",
    "import matplotlib\n",
    "import seaborn\n",
    "import scipy\n",
    "import sklearn\n",
    "\n",
    "\n",
    "print('Python: {}'.format(sys.version))\n",
    "print('Numpy:{}'.format(numpy.__version__))\n",
    "print('Pandas:{}'.format(pandas.__version__))\n",
    "print('Matplotlib:{}'.format(matplotlib.__version__))\n",
    "print('Seaborn:{}'.format(seaborn.__version__))\n",
    "print('Scipy:{}'.format(scipy.__version__))\n",
    "print('Sklearn:{}'.format(sklearn.__version__))"
   ]
  },
  {
   "cell_type": "code",
   "execution_count": 2,
   "metadata": {},
   "outputs": [],
   "source": [
    "# import necessary packages\n",
    "import numpy as np\n",
    "import pandas as pd\n",
    "import matplotlib.pyplot as plt\n",
    "import seaborn as sns"
   ]
  },
  {
   "cell_type": "code",
   "execution_count": 3,
   "metadata": {},
   "outputs": [],
   "source": [
    "# get the data\n",
    "import os\n",
    "os.getcwd()\n",
    "os.chdir('C:\\\\Users\\\\barla\\\\OneDrive\\\\Desktop\\\\Academia\\\\Data Science and Economics\\\\Risk Management\\\\Fraud Detection-Machine Learning\\\\Dataset')\n",
    "data= pd.read_csv('creditcard.csv')"
   ]
  },
  {
   "cell_type": "code",
   "execution_count": 4,
   "metadata": {},
   "outputs": [
    {
     "data": {
      "text/html": [
       "<div>\n",
       "<style scoped>\n",
       "    .dataframe tbody tr th:only-of-type {\n",
       "        vertical-align: middle;\n",
       "    }\n",
       "\n",
       "    .dataframe tbody tr th {\n",
       "        vertical-align: top;\n",
       "    }\n",
       "\n",
       "    .dataframe thead th {\n",
       "        text-align: right;\n",
       "    }\n",
       "</style>\n",
       "<table border=\"1\" class=\"dataframe\">\n",
       "  <thead>\n",
       "    <tr style=\"text-align: right;\">\n",
       "      <th></th>\n",
       "      <th>Time</th>\n",
       "      <th>V1</th>\n",
       "      <th>V2</th>\n",
       "      <th>V3</th>\n",
       "      <th>V4</th>\n",
       "      <th>V5</th>\n",
       "      <th>V6</th>\n",
       "      <th>V7</th>\n",
       "      <th>V8</th>\n",
       "      <th>V9</th>\n",
       "      <th>...</th>\n",
       "      <th>V21</th>\n",
       "      <th>V22</th>\n",
       "      <th>V23</th>\n",
       "      <th>V24</th>\n",
       "      <th>V25</th>\n",
       "      <th>V26</th>\n",
       "      <th>V27</th>\n",
       "      <th>V28</th>\n",
       "      <th>Amount</th>\n",
       "      <th>Class</th>\n",
       "    </tr>\n",
       "  </thead>\n",
       "  <tbody>\n",
       "    <tr>\n",
       "      <th>0</th>\n",
       "      <td>0.0</td>\n",
       "      <td>-1.359807</td>\n",
       "      <td>-0.072781</td>\n",
       "      <td>2.536347</td>\n",
       "      <td>1.378155</td>\n",
       "      <td>-0.338321</td>\n",
       "      <td>0.462388</td>\n",
       "      <td>0.239599</td>\n",
       "      <td>0.098698</td>\n",
       "      <td>0.363787</td>\n",
       "      <td>...</td>\n",
       "      <td>-0.018307</td>\n",
       "      <td>0.277838</td>\n",
       "      <td>-0.110474</td>\n",
       "      <td>0.066928</td>\n",
       "      <td>0.128539</td>\n",
       "      <td>-0.189115</td>\n",
       "      <td>0.133558</td>\n",
       "      <td>-0.021053</td>\n",
       "      <td>149.62</td>\n",
       "      <td>0</td>\n",
       "    </tr>\n",
       "    <tr>\n",
       "      <th>1</th>\n",
       "      <td>0.0</td>\n",
       "      <td>1.191857</td>\n",
       "      <td>0.266151</td>\n",
       "      <td>0.166480</td>\n",
       "      <td>0.448154</td>\n",
       "      <td>0.060018</td>\n",
       "      <td>-0.082361</td>\n",
       "      <td>-0.078803</td>\n",
       "      <td>0.085102</td>\n",
       "      <td>-0.255425</td>\n",
       "      <td>...</td>\n",
       "      <td>-0.225775</td>\n",
       "      <td>-0.638672</td>\n",
       "      <td>0.101288</td>\n",
       "      <td>-0.339846</td>\n",
       "      <td>0.167170</td>\n",
       "      <td>0.125895</td>\n",
       "      <td>-0.008983</td>\n",
       "      <td>0.014724</td>\n",
       "      <td>2.69</td>\n",
       "      <td>0</td>\n",
       "    </tr>\n",
       "    <tr>\n",
       "      <th>2</th>\n",
       "      <td>1.0</td>\n",
       "      <td>-1.358354</td>\n",
       "      <td>-1.340163</td>\n",
       "      <td>1.773209</td>\n",
       "      <td>0.379780</td>\n",
       "      <td>-0.503198</td>\n",
       "      <td>1.800499</td>\n",
       "      <td>0.791461</td>\n",
       "      <td>0.247676</td>\n",
       "      <td>-1.514654</td>\n",
       "      <td>...</td>\n",
       "      <td>0.247998</td>\n",
       "      <td>0.771679</td>\n",
       "      <td>0.909412</td>\n",
       "      <td>-0.689281</td>\n",
       "      <td>-0.327642</td>\n",
       "      <td>-0.139097</td>\n",
       "      <td>-0.055353</td>\n",
       "      <td>-0.059752</td>\n",
       "      <td>378.66</td>\n",
       "      <td>0</td>\n",
       "    </tr>\n",
       "    <tr>\n",
       "      <th>3</th>\n",
       "      <td>1.0</td>\n",
       "      <td>-0.966272</td>\n",
       "      <td>-0.185226</td>\n",
       "      <td>1.792993</td>\n",
       "      <td>-0.863291</td>\n",
       "      <td>-0.010309</td>\n",
       "      <td>1.247203</td>\n",
       "      <td>0.237609</td>\n",
       "      <td>0.377436</td>\n",
       "      <td>-1.387024</td>\n",
       "      <td>...</td>\n",
       "      <td>-0.108300</td>\n",
       "      <td>0.005274</td>\n",
       "      <td>-0.190321</td>\n",
       "      <td>-1.175575</td>\n",
       "      <td>0.647376</td>\n",
       "      <td>-0.221929</td>\n",
       "      <td>0.062723</td>\n",
       "      <td>0.061458</td>\n",
       "      <td>123.50</td>\n",
       "      <td>0</td>\n",
       "    </tr>\n",
       "    <tr>\n",
       "      <th>4</th>\n",
       "      <td>2.0</td>\n",
       "      <td>-1.158233</td>\n",
       "      <td>0.877737</td>\n",
       "      <td>1.548718</td>\n",
       "      <td>0.403034</td>\n",
       "      <td>-0.407193</td>\n",
       "      <td>0.095921</td>\n",
       "      <td>0.592941</td>\n",
       "      <td>-0.270533</td>\n",
       "      <td>0.817739</td>\n",
       "      <td>...</td>\n",
       "      <td>-0.009431</td>\n",
       "      <td>0.798278</td>\n",
       "      <td>-0.137458</td>\n",
       "      <td>0.141267</td>\n",
       "      <td>-0.206010</td>\n",
       "      <td>0.502292</td>\n",
       "      <td>0.219422</td>\n",
       "      <td>0.215153</td>\n",
       "      <td>69.99</td>\n",
       "      <td>0</td>\n",
       "    </tr>\n",
       "  </tbody>\n",
       "</table>\n",
       "<p>5 rows × 31 columns</p>\n",
       "</div>"
      ],
      "text/plain": [
       "   Time        V1        V2        V3        V4        V5        V6        V7  \\\n",
       "0   0.0 -1.359807 -0.072781  2.536347  1.378155 -0.338321  0.462388  0.239599   \n",
       "1   0.0  1.191857  0.266151  0.166480  0.448154  0.060018 -0.082361 -0.078803   \n",
       "2   1.0 -1.358354 -1.340163  1.773209  0.379780 -0.503198  1.800499  0.791461   \n",
       "3   1.0 -0.966272 -0.185226  1.792993 -0.863291 -0.010309  1.247203  0.237609   \n",
       "4   2.0 -1.158233  0.877737  1.548718  0.403034 -0.407193  0.095921  0.592941   \n",
       "\n",
       "         V8        V9  ...       V21       V22       V23       V24       V25  \\\n",
       "0  0.098698  0.363787  ... -0.018307  0.277838 -0.110474  0.066928  0.128539   \n",
       "1  0.085102 -0.255425  ... -0.225775 -0.638672  0.101288 -0.339846  0.167170   \n",
       "2  0.247676 -1.514654  ...  0.247998  0.771679  0.909412 -0.689281 -0.327642   \n",
       "3  0.377436 -1.387024  ... -0.108300  0.005274 -0.190321 -1.175575  0.647376   \n",
       "4 -0.270533  0.817739  ... -0.009431  0.798278 -0.137458  0.141267 -0.206010   \n",
       "\n",
       "        V26       V27       V28  Amount  Class  \n",
       "0 -0.189115  0.133558 -0.021053  149.62      0  \n",
       "1  0.125895 -0.008983  0.014724    2.69      0  \n",
       "2 -0.139097 -0.055353 -0.059752  378.66      0  \n",
       "3 -0.221929  0.062723  0.061458  123.50      0  \n",
       "4  0.502292  0.219422  0.215153   69.99      0  \n",
       "\n",
       "[5 rows x 31 columns]"
      ]
     },
     "execution_count": 4,
     "metadata": {},
     "output_type": "execute_result"
    }
   ],
   "source": [
    "#Exploring the dataset\n",
    "data.head()"
   ]
  },
  {
   "cell_type": "code",
   "execution_count": 5,
   "metadata": {},
   "outputs": [
    {
     "name": "stdout",
     "output_type": "stream",
     "text": [
      "Index(['Time', 'V1', 'V2', 'V3', 'V4', 'V5', 'V6', 'V7', 'V8', 'V9', 'V10',\n",
      "       'V11', 'V12', 'V13', 'V14', 'V15', 'V16', 'V17', 'V18', 'V19', 'V20',\n",
      "       'V21', 'V22', 'V23', 'V24', 'V25', 'V26', 'V27', 'V28', 'Amount',\n",
      "       'Class'],\n",
      "      dtype='object')\n"
     ]
    }
   ],
   "source": [
    "print(data.columns)\n",
    "\n",
    "#We have 31 columns, V's are actually the result of PCA dimentionality reduction that was used to protect the sensitive\n",
    "#information in this dataset. \n",
    "#For example, we do not want to expose the identity of the individual who did the credit-card transaction, location etc.\n",
    "#The columns Class has values between 0 and 1 where 0 means a valid transaction while 1 means a fraudulent transaction.\n",
    "#PCA has not applied to Time and Amount, where time is the seconds elapsed between each transaction while \n",
    "#the Amount is the Amount of transaction.\n"
   ]
  },
  {
   "cell_type": "code",
   "execution_count": 6,
   "metadata": {},
   "outputs": [
    {
     "data": {
      "text/plain": [
       "(284807, 31)"
      ]
     },
     "execution_count": 6,
     "metadata": {},
     "output_type": "execute_result"
    }
   ],
   "source": [
    "data.shape\n",
    "\n",
    "#we have 284807 rows and 31 columns.\n",
    "#If we look at the class, we see that the mean is very close to zero meaning that we have way more valid transasctions \n",
    "#than the fraudulent ones, as expected.\n"
   ]
  },
  {
   "cell_type": "code",
   "execution_count": 7,
   "metadata": {},
   "outputs": [
    {
     "name": "stdout",
     "output_type": "stream",
     "text": [
      "                Time            V1            V2            V3            V4  \\\n",
      "count  284807.000000  2.848070e+05  2.848070e+05  2.848070e+05  2.848070e+05   \n",
      "mean    94813.859575  3.919560e-15  5.688174e-16 -8.769071e-15  2.782312e-15   \n",
      "std     47488.145955  1.958696e+00  1.651309e+00  1.516255e+00  1.415869e+00   \n",
      "min         0.000000 -5.640751e+01 -7.271573e+01 -4.832559e+01 -5.683171e+00   \n",
      "25%     54201.500000 -9.203734e-01 -5.985499e-01 -8.903648e-01 -8.486401e-01   \n",
      "50%     84692.000000  1.810880e-02  6.548556e-02  1.798463e-01 -1.984653e-02   \n",
      "75%    139320.500000  1.315642e+00  8.037239e-01  1.027196e+00  7.433413e-01   \n",
      "max    172792.000000  2.454930e+00  2.205773e+01  9.382558e+00  1.687534e+01   \n",
      "\n",
      "                 V5            V6            V7            V8            V9  \\\n",
      "count  2.848070e+05  2.848070e+05  2.848070e+05  2.848070e+05  2.848070e+05   \n",
      "mean  -1.552563e-15  2.010663e-15 -1.694249e-15 -1.927028e-16 -3.137024e-15   \n",
      "std    1.380247e+00  1.332271e+00  1.237094e+00  1.194353e+00  1.098632e+00   \n",
      "min   -1.137433e+02 -2.616051e+01 -4.355724e+01 -7.321672e+01 -1.343407e+01   \n",
      "25%   -6.915971e-01 -7.682956e-01 -5.540759e-01 -2.086297e-01 -6.430976e-01   \n",
      "50%   -5.433583e-02 -2.741871e-01  4.010308e-02  2.235804e-02 -5.142873e-02   \n",
      "75%    6.119264e-01  3.985649e-01  5.704361e-01  3.273459e-01  5.971390e-01   \n",
      "max    3.480167e+01  7.330163e+01  1.205895e+02  2.000721e+01  1.559499e+01   \n",
      "\n",
      "       ...           V21           V22           V23           V24  \\\n",
      "count  ...  2.848070e+05  2.848070e+05  2.848070e+05  2.848070e+05   \n",
      "mean   ...  1.537294e-16  7.959909e-16  5.367590e-16  4.458112e-15   \n",
      "std    ...  7.345240e-01  7.257016e-01  6.244603e-01  6.056471e-01   \n",
      "min    ... -3.483038e+01 -1.093314e+01 -4.480774e+01 -2.836627e+00   \n",
      "25%    ... -2.283949e-01 -5.423504e-01 -1.618463e-01 -3.545861e-01   \n",
      "50%    ... -2.945017e-02  6.781943e-03 -1.119293e-02  4.097606e-02   \n",
      "75%    ...  1.863772e-01  5.285536e-01  1.476421e-01  4.395266e-01   \n",
      "max    ...  2.720284e+01  1.050309e+01  2.252841e+01  4.584549e+00   \n",
      "\n",
      "                V25           V26           V27           V28         Amount  \\\n",
      "count  2.848070e+05  2.848070e+05  2.848070e+05  2.848070e+05  284807.000000   \n",
      "mean   1.453003e-15  1.699104e-15 -3.660161e-16 -1.206049e-16      88.349619   \n",
      "std    5.212781e-01  4.822270e-01  4.036325e-01  3.300833e-01     250.120109   \n",
      "min   -1.029540e+01 -2.604551e+00 -2.256568e+01 -1.543008e+01       0.000000   \n",
      "25%   -3.171451e-01 -3.269839e-01 -7.083953e-02 -5.295979e-02       5.600000   \n",
      "50%    1.659350e-02 -5.213911e-02  1.342146e-03  1.124383e-02      22.000000   \n",
      "75%    3.507156e-01  2.409522e-01  9.104512e-02  7.827995e-02      77.165000   \n",
      "max    7.519589e+00  3.517346e+00  3.161220e+01  3.384781e+01   25691.160000   \n",
      "\n",
      "               Class  \n",
      "count  284807.000000  \n",
      "mean        0.001727  \n",
      "std         0.041527  \n",
      "min         0.000000  \n",
      "25%         0.000000  \n",
      "50%         0.000000  \n",
      "75%         0.000000  \n",
      "max         1.000000  \n",
      "\n",
      "[8 rows x 31 columns]\n"
     ]
    }
   ],
   "source": [
    "print(data.describe())\n",
    "\n",
    "# The count is the same for all the variables so we do not have any missing data.\n",
    "\n"
   ]
  },
  {
   "cell_type": "code",
   "execution_count": 8,
   "metadata": {},
   "outputs": [
    {
     "data": {
      "text/plain": [
       "(28481, 31)"
      ]
     },
     "execution_count": 8,
     "metadata": {},
     "output_type": "execute_result"
    }
   ],
   "source": [
    "#it is a very large dataset, for the sake of simplity of the computational requirements and to save time, \n",
    "#I will use only the 10 percent of the dataset extrating from the original data randomly.\n",
    "\n",
    "data= data.sample(frac=0.1, random_state=1)\n",
    "data.shape\n",
    "\n",
    "#so now we have only 10% of the whole dataset."
   ]
  },
  {
   "cell_type": "code",
   "execution_count": 9,
   "metadata": {},
   "outputs": [
    {
     "name": "stdout",
     "output_type": "stream",
     "text": [
      "                Time            V1            V2            V3            V4  \\\n",
      "count   28481.000000  28481.000000  28481.000000  28481.000000  28481.000000   \n",
      "mean    94705.035216     -0.001143     -0.018290      0.000795      0.000350   \n",
      "std     47584.727034      1.994661      1.709050      1.522313      1.420003   \n",
      "min         0.000000    -40.470142    -63.344698    -31.813586     -5.266509   \n",
      "25%     53924.000000     -0.908809     -0.610322     -0.892884     -0.847370   \n",
      "50%     84551.000000      0.031139      0.051775      0.178943     -0.017692   \n",
      "75%    139392.000000      1.320048      0.792685      1.035197      0.737312   \n",
      "max    172784.000000      2.411499     17.418649      4.069865     16.715537   \n",
      "\n",
      "                 V5            V6            V7            V8            V9  \\\n",
      "count  28481.000000  28481.000000  28481.000000  28481.000000  28481.000000   \n",
      "mean      -0.015666      0.003634     -0.008523     -0.003040      0.014536   \n",
      "std        1.395552      1.334985      1.237249      1.204102      1.098006   \n",
      "min      -42.147898    -19.996349    -22.291962    -33.785407     -8.739670   \n",
      "25%       -0.703986     -0.765807     -0.562033     -0.208445     -0.632488   \n",
      "50%       -0.068037     -0.269071      0.028378      0.024696     -0.037100   \n",
      "75%        0.603574      0.398839      0.559428      0.326057      0.621093   \n",
      "max       28.762671     22.529298     36.677268     19.587773      8.141560   \n",
      "\n",
      "       ...           V21           V22           V23           V24  \\\n",
      "count  ...  28481.000000  28481.000000  28481.000000  28481.000000   \n",
      "mean   ...      0.004740      0.006719     -0.000494     -0.002626   \n",
      "std    ...      0.744743      0.728209      0.645945      0.603968   \n",
      "min    ...    -16.640785    -10.933144    -30.269720     -2.752263   \n",
      "25%    ...     -0.224842     -0.535877     -0.163047     -0.360582   \n",
      "50%    ...     -0.029075      0.014337     -0.012678      0.038383   \n",
      "75%    ...      0.189068      0.533936      0.148065      0.434851   \n",
      "max    ...     22.588989      6.090514     15.626067      3.944520   \n",
      "\n",
      "                V25           V26           V27           V28        Amount  \\\n",
      "count  28481.000000  28481.000000  28481.000000  28481.000000  28481.000000   \n",
      "mean      -0.000917      0.004762     -0.001689     -0.004154     89.957884   \n",
      "std        0.520679      0.488171      0.418304      0.321646    270.894630   \n",
      "min       -7.025783     -2.534330     -8.260909     -9.617915      0.000000   \n",
      "25%       -0.319611     -0.328476     -0.071712     -0.053379      5.980000   \n",
      "50%        0.015231     -0.049750      0.000914      0.010753     22.350000   \n",
      "75%        0.351466      0.253580      0.090329      0.076267     78.930000   \n",
      "max        5.541598      3.118588     11.135740     15.373170  19656.530000   \n",
      "\n",
      "              Class  \n",
      "count  28481.000000  \n",
      "mean       0.001720  \n",
      "std        0.041443  \n",
      "min        0.000000  \n",
      "25%        0.000000  \n",
      "50%        0.000000  \n",
      "75%        0.000000  \n",
      "max        1.000000  \n",
      "\n",
      "[8 rows x 31 columns]\n"
     ]
    }
   ],
   "source": [
    "print(data.describe())\n",
    "#the mean for the class has slighlty increased but since the interval is only between 0 and 1,\n",
    "#this slight increase might mean something.\n"
   ]
  },
  {
   "cell_type": "code",
   "execution_count": 8,
   "metadata": {},
   "outputs": [
    {
     "data": {
      "text/plain": [
       "Text(0, 0.5, 'Frequency')"
      ]
     },
     "execution_count": 8,
     "metadata": {},
     "output_type": "execute_result"
    },
    {
     "data": {
      "image/png": "[encoded data removed]",
      "text/plain": [
       "<Figure size 1008x576 with 1 Axes>"
      ]
     },
     "metadata": {
      "needs_background": "light"
     },
     "output_type": "display_data"
    }
   ],
   "source": [
    "from pylab import rcParams\n",
    "rcParams['figure.figsize']=14,8\n",
    "RANDOM_SEED= 42\n",
    "\n",
    "LABELS=['Normal','Fraud']\n",
    "count_classes= pd.value_counts(data['Class'],sort=True)\n",
    "count_classes.plot(kind='bar', rot=0)\n",
    "plt.title('Transaction Class Distribution')\n",
    "plt.xticks(range(2), LABELS)\n",
    "plt.xlabel('Class')\n",
    "plt.ylabel('Frequency')\n",
    "\n",
    "#We already knew that it was an inbalanced dataset but it is more striking to see a plot. \n",
    "#Fraud transactions are really really small.\n",
    "#in fact, it is even difficult to discern them in the histrogram."
   ]
  },
  {
   "cell_type": "code",
   "execution_count": 10,
   "metadata": {},
   "outputs": [
    {
     "name": "stdout",
     "output_type": "stream",
     "text": [
      "0.0017234102419808666\n",
      "Fraud Cases:49\n",
      "Valid Cases:28432\n"
     ]
    }
   ],
   "source": [
    "#Number of Frauds\n",
    "# so we have about .17% of fraudulent cases of total 49 fraudulent cases.\n",
    "# It is important to know the actualy fraudulent cases before training our dataset for the algorithms because if we train the \n",
    "#dataset with an over-representation of fraud cases, then we will predict more fraud cases than there actually is.\n",
    "Fraud= data[data['Class']==1]\n",
    "Valid= data[data['Class']==0]\n",
    "\n",
    "outlier_fraction= len(Fraud)/ float(len(Valid))\n",
    "print(outlier_fraction)\n",
    "\n",
    "print('Fraud Cases:{}'.format(len(Fraud)))\n",
    "print('Valid Cases:{}'.format(len(Valid)))\n"
   ]
  },
  {
   "cell_type": "code",
   "execution_count": 11,
   "metadata": {},
   "outputs": [
    {
     "name": "stdout",
     "output_type": "stream",
     "text": [
      "(49, 31)\n",
      "(28432, 31)\n"
     ]
    }
   ],
   "source": [
    "fraud=data[data['Class']==1]\n",
    "\n",
    "normal= data[data['Class']==0]\n",
    "\n",
    "print(fraud.shape)\n",
    "print(normal.shape)\n",
    "#we have only 492 fraud transasctions."
   ]
  },
  {
   "cell_type": "code",
   "execution_count": 12,
   "metadata": {},
   "outputs": [
    {
     "data": {
      "text/plain": [
       "count      49.000000\n",
       "mean      173.505306\n",
       "std       387.996569\n",
       "min         0.000000\n",
       "25%         1.000000\n",
       "50%         4.900000\n",
       "75%       122.680000\n",
       "max      2125.870000\n",
       "Name: Amount, dtype: float64"
      ]
     },
     "execution_count": 12,
     "metadata": {},
     "output_type": "execute_result"
    }
   ],
   "source": [
    "fraud.Amount.describe()\n",
    "#The mean value for fraud transactions is 122 euros, where the max is 2125."
   ]
  },
  {
   "cell_type": "code",
   "execution_count": 13,
   "metadata": {},
   "outputs": [
    {
     "data": {
      "text/plain": [
       "count    28432.000000\n",
       "mean        89.813898\n",
       "std        270.636594\n",
       "min          0.000000\n",
       "25%          5.990000\n",
       "50%         22.380000\n",
       "75%         78.820000\n",
       "max      19656.530000\n",
       "Name: Amount, dtype: float64"
      ]
     },
     "execution_count": 13,
     "metadata": {},
     "output_type": "execute_result"
    }
   ],
   "source": [
    "normal.Amount.describe()\n",
    "#The mean for valid transactions is visibly lower than that of  fraud ones. what this is telling us is that people tend to\n",
    "# use higher amount when doing fraud transactions which makes sense."
   ]
  },
  {
   "cell_type": "code",
   "execution_count": 16,
   "metadata": {},
   "outputs": [
    {
     "data": {
      "image/png": "[encoded data removed]",
      "text/plain": [
       "<Figure size 1008x576 with 2 Axes>"
      ]
     },
     "metadata": {
      "needs_background": "light"
     },
     "output_type": "display_data"
    }
   ],
   "source": [
    "from pylab import rcParams\n",
    "rcParams['figure.figsize']=14,8\n",
    "RANDOM_SEED= 42\n",
    "LABELS=['Normal','Fraud']\n",
    "f, (ax1,ax2)= plt.subplots(2,1,sharex=True)\n",
    "f.suptitle('Amount per transaction by class')\n",
    "bins=50\n",
    "\n",
    "ax1.hist(fraud.Amount,bins=bins)\n",
    "ax1.set_title('Fraud')\n",
    "ax2.hist(normal.Amount, bins=bins)\n",
    "ax2.set_title('Normal')\n",
    "\n",
    "plt.xlabel('Amount ($)')\n",
    "plt.ylabel('Number of transactions')\n",
    "plt.xlim((0,20000))\n",
    "plt.yscale('log')\n",
    "plt.show();\n",
    "\n",
    "#Amounts of transactions can be seen in a better way separated by the class."
   ]
  },
  {
   "cell_type": "code",
   "execution_count": 17,
   "metadata": {},
   "outputs": [
    {
     "data": {
      "image/png": "[encoded data removed]",
      "text/plain": [
       "<Figure size 864x648 with 2 Axes>"
      ]
     },
     "metadata": {
      "needs_background": "light"
     },
     "output_type": "display_data"
    }
   ],
   "source": [
    "corrmat= data.corr()\n",
    "fig= plt.figure(figsize=(12,9))\n",
    "\n",
    "sns.heatmap(corrmat, vmax= .8, square=True)\n",
    "plt.show()\n",
    "\n",
    "#There seems to be not any correlation between variables, there are clustered around 0.\n",
    "#I hoped to see a correlation between class and amount/time, however there is nothing significant to comment about."
   ]
  },
  {
   "cell_type": "code",
   "execution_count": 18,
   "metadata": {},
   "outputs": [
    {
     "name": "stdout",
     "output_type": "stream",
     "text": [
      "(28481, 30)\n",
      "(28481,)\n"
     ]
    }
   ],
   "source": [
    "#Before moving to actual Machine Learning application on the dataset, we need to format our dataset slighlty.\n",
    "\n",
    "columns= data.columns.tolist()\n",
    "\n",
    "#filter the columns to remove the data we do not want\n",
    "\n",
    "columns= [c for c in columns if c not in ['Class']]\n",
    "\n",
    "#store the variable we will be predicting\n",
    "\n",
    "target= 'Class'\n",
    "\n",
    "X= data[columns] #without the class column in it\n",
    "\n",
    "Y= data[target]\n",
    "\n",
    "#Let's see if everything works correctly\n",
    "\n",
    "print(X.shape)\n",
    "print(Y.shape)\n",
    "\n",
    "#So we have 30 colums without class, so its ok!\n",
    "#While Y has only one column which is the class."
   ]
  },
  {
   "cell_type": "code",
   "execution_count": 19,
   "metadata": {},
   "outputs": [],
   "source": [
    "from sklearn.metrics import classification_report, accuracy_score\n",
    "from sklearn.ensemble import IsolationForest\n",
    "from sklearn.neighbors import LocalOutlierFactor\n",
    "\n",
    "#The localoutlierfactor is an unsupervied outlier detection method, it calculates the anomaly score of each sample and\n",
    "# ıt measures the local deviation of density of a given sample with respect to its neighbors. So the anomaly score depends on\n",
    "# how isolated the object is from its neighbors\n",
    "\n",
    "#Isolationforest method is a little different. It calculats the anomaly score of each sample using this isolation forest method\n",
    "# that isolating each observation by randomly selecting a feature and randomly selecting a split value between the maximun and\n",
    "#minimum values of the selected feature. \n",
    "\n",
    "\n",
    "#define a random state\n",
    "state=1\n",
    "\n",
    "#define the outlier detection methods \n",
    "\n",
    "classifiers= {\n",
    "    \"Isolation Forest\": IsolationForest(max_samples=len(X),\n",
    "                                        contamination= outlier_fraction,# already calculated above\n",
    "                                        random_state=state),\n",
    "    \n",
    "    \"Local Outlier Factor\": LocalOutlierFactor(\n",
    "    n_neighbors=20, \n",
    "    contamination= outlier_fraction)\n",
    "}"
   ]
  },
  {
   "cell_type": "code",
   "execution_count": 20,
   "metadata": {
    "scrolled": true
   },
   "outputs": [
    {
     "name": "stdout",
     "output_type": "stream",
     "text": [
      "Local Outlier Factor:97\n",
      "0.9965942207085425\n",
      "              precision    recall  f1-score   support\n",
      "\n",
      "           0       1.00      1.00      1.00     28432\n",
      "           1       0.02      0.02      0.02        49\n",
      "\n",
      "    accuracy                           1.00     28481\n",
      "   macro avg       0.51      0.51      0.51     28481\n",
      "weighted avg       1.00      1.00      1.00     28481\n",
      "\n"
     ]
    }
   ],
   "source": [
    "#fit the model\n",
    "\n",
    "n_outliers= len(Fraud) # number of outliers\n",
    "\n",
    "for i, (clf_name, clf) in enumerate(classifiers.items()): \n",
    "    \n",
    "    #fit the data and tag outliers\n",
    "    if clf_name== \"Local Outlier Factor\":\n",
    "        y_pred= clf.fit_predict(X)\n",
    "        scores_pred= clf.negative_outlier_factor_\n",
    "   \n",
    "        \n",
    "        #It is using two fitting methods depending on whether it is a Local outlier factor or not.\n",
    "        #The y_pred here is going to give us -1 and 1 depending on the object being outlier or an inlier.  \n",
    "        #So we need to process it a litte bit to compare it to our class labels.\n",
    "        #Reshape values to 0 for valid and to 1 for fraud.\n",
    "        y_pred[y_pred==1]=0\n",
    "        y_pred[y_pred==-1]=1\n",
    "        n_errors= (y_pred!=Y).sum()\n",
    "\n",
    "        # Run the classification matrix.\n",
    "\n",
    "        print( '{}:{}'.format(clf_name, n_errors))\n",
    "        print(accuracy_score(Y,y_pred))\n",
    "        print(classification_report(Y, y_pred))\n",
    "      \n",
    "    # So we have a Local outlier Factor here with 97 outliers, and the precision is really high with 99%. We have a precision\n",
    "     # 100% for class 0 while it is 0.02 for 1 which is fraudulent cases. We have a really fwe fraudulent cases that are \n",
    "    # labelled as fraudulent. We actually miss to catch them!\n"
   ]
  },
  {
   "cell_type": "code",
   "execution_count": 21,
   "metadata": {},
   "outputs": [
    {
     "name": "stdout",
     "output_type": "stream",
     "text": [
      "Isolation Forest:71\n",
      "0.99750711000316\n",
      "              precision    recall  f1-score   support\n",
      "\n",
      "           0       1.00      1.00      1.00     28432\n",
      "           1       0.28      0.29      0.28        49\n",
      "\n",
      "    accuracy                           1.00     28481\n",
      "   macro avg       0.64      0.64      0.64     28481\n",
      "weighted avg       1.00      1.00      1.00     28481\n",
      "\n"
     ]
    }
   ],
   "source": [
    "#fit the model\n",
    "\n",
    "n_outliers= len(Fraud) # number of outliers\n",
    "\n",
    "for i, (clf_name, clf) in enumerate(classifiers.items()): \n",
    "    \n",
    "    #fit the data and tag outliers\n",
    "    if clf_name== \"Local Outlier Factor\":\n",
    "        y_pred= clf.fit_predict(X)\n",
    "        scores_pred= clf.negative_outlier_factor_\n",
    "    else:\n",
    "        clf.fit(X)\n",
    "        scores_pred= clf.decision_function(X)\n",
    "        y_pred = clf.predict(X)\n",
    "   \n",
    "        \n",
    "        y_pred[y_pred==1]=0\n",
    "        y_pred[y_pred==-1]=1\n",
    "        n_errors= (y_pred!=Y).sum()\n",
    "\n",
    "\n",
    "        print( '{}:{}'.format(clf_name, n_errors))\n",
    "        print(accuracy_score(Y,y_pred))\n",
    "        print(classification_report(Y, y_pred))\n",
    "    \n",
    "    \n",
    "    \n",
    "  #The isolation forest method here with 71 errors, relatively high, however, the precision that we have is .99 which is\n",
    "  #very high.\n",
    "  #However, when we look at the classses, namely, the values 0 and 1, we see that we are 100% accurate at predicting 0 while\n",
    "  #only .28 for the class 1 that is low but way better than the previous method. not really good."
   ]
  },
  {
   "cell_type": "markdown",
   "metadata": {},
   "source": [
    "Observations:\n",
    "\n",
    "IsolationForest detected 71 errors while LOF detected 97 errors.\n",
    "IsolationForest has 99.75% accuracy while LOF has 99.65%\n",
    "When it comes to detect fraud cases, IsolationMethod worked way more better than the LOF.\n",
    "IsolationMethod detected 28% of Fraud cases while LOF detected only 2% of it.\n",
    "We can improve this accuracy by using a greater sample size or using deep learning algorithms however at the cost of computational expense."
   ]
  }
 ],
 "metadata": {
  "kernelspec": {
   "display_name": "Python 3",
   "language": "python",
   "name": "python3"
  },
  "language_info": {
   "codemirror_mode": {
    "name": "ipython",
    "version": 3
   },
   "file_extension": ".py",
   "mimetype": "text/x-python",
   "name": "python",
   "nbconvert_exporter": "python",
   "pygments_lexer": "ipython3",
   "version": "3.8.5"
  }
 },
 "nbformat": 4,
 "nbformat_minor": 4
}
